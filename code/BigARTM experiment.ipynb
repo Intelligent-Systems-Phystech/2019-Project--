{
 "cells": [
  {
   "cell_type": "code",
   "execution_count": 3,
   "metadata": {},
   "outputs": [],
   "source": [
    "import time\n",
    "def timer(f):\n",
    "    def tmp(*args, **kwargs):\n",
    "        t = time.time()\n",
    "        res = f(*args, **kwargs)\n",
    "        with open('./time_log.txt', 'a+') as log:\n",
    "            log.write(\"Время выполнения функции {}: {}\\n\".format(f.__name__, time.time()-t))\n",
    "        return res\n",
    "    return tmp"
   ]
  },
  {
   "cell_type": "code",
   "execution_count": 4,
   "metadata": {},
   "outputs": [],
   "source": [
    "import os\n",
    "\n",
    "root_path = '/Users/nikgerasimenko/Desktop/Учеба/2 семестр/Стрижов/Банкротство'\n",
    "subject_paths = ['Арбитражные управляющие',\n",
    "                 'Особенности банкротства отдельных категорий должников',\n",
    "                 'Упрощенные процедуры банкротства/Банкротство ликвидируемого должника',\n",
    "                 'Упрощенные процедуры банкротства/Банкротство отсутствующего должника',\n",
    "                 'Процедуры банкротства/Мировое соглашение',\n",
    "                 'Процедуры банкротства/Общие положения',\n",
    "                 'Процедуры банкротства/Наблюдение',\n",
    "                 'Процедуры банкротства/Внешнее управление',\n",
    "                 'Процедуры банкротства/Конкурсное производство',\n",
    "                ]\n",
    "subject_paths = [os.path.join(root_path, subject_path) for subject_path in subject_paths]\n",
    "\n",
    "document_collection_dict = [(subject_path.split('/')[-1], os.path.join(subject_path, document_name, list(filter(lambda x: x[-1]!='_', os.listdir(os.path.join(subject_path, document_name))))[0])) for subject_path in subject_paths for document_name in os.listdir(subject_path) if document_name!='.DS_Store']\n",
    "document_collection = [document for (_, document) in document_collection_dict]"
   ]
  },
  {
   "cell_type": "code",
   "execution_count": null,
   "metadata": {},
   "outputs": [],
   "source": [
    "# from preprocess.to_UCI_or_VW_format import to_VW\n",
    "\n",
    "# to_VW(document_collection, 'ld', cut_most_fr_procent=5)"
   ]
  },
  {
   "cell_type": "code",
   "execution_count": 5,
   "metadata": {},
   "outputs": [],
   "source": [
    "%matplotlib inline\n",
    "import glob\n",
    "import os\n",
    "import matplotlib.pyplot as plt\n",
    "\n",
    "import artm"
   ]
  },
  {
   "cell_type": "code",
   "execution_count": 20,
   "metadata": {},
   "outputs": [
    {
     "data": {
      "text/plain": [
       "7937"
      ]
     },
     "execution_count": 20,
     "metadata": {},
     "output_type": "execute_result"
    }
   ],
   "source": [
    "len(document_collection_dict)"
   ]
  },
  {
   "cell_type": "code",
   "execution_count": 6,
   "metadata": {},
   "outputs": [],
   "source": [
    "batch_vectorizer = artm.BatchVectorizer(data_path='vw.ld.txt',\n",
    "                                        data_format='vowpal_wabbit',\n",
    "                                        target_folder='ld')"
   ]
  },
  {
   "cell_type": "code",
   "execution_count": null,
   "metadata": {},
   "outputs": [],
   "source": [
    "num_topics = 50\n",
    "\n",
    "scores = [artm.PerplexityScore(name='PerplexityScore', dictionary=batch_vectorizer.dictionary),\n",
    "          artm.SparsityPhiScore(name='SparsityPhiScore'),\n",
    "          artm.SparsityThetaScore(name='SparsityThetaScore'),\n",
    "          artm.TopicKernelScore(name='TopicKernelScore', probability_mass_threshold=0.3)]\n",
    "\n",
    "regularizers = [artm.DecorrelatorPhiRegularizer(name='DecorrelatorPhi', tau=1e+8),\n",
    "                artm.SmoothSparseThetaRegularizer(name='SparseTheta', tau=-2.5),\n",
    "                artm.SmoothSparsePhiRegularizer(name='SparsePhi', tau=-0.5)]\n",
    "\n",
    "model_artm = artm.ARTM(num_topics=num_topics, cache_theta=True, \n",
    "                       dictionary=batch_vectorizer.dictionary,\n",
    "                       scores=scores,\n",
    "                       class_ids={'@default_class': 1.0, '@na_class': 5.0},\n",
    "                       regularizers=regularizers)"
   ]
  },
  {
   "cell_type": "code",
   "execution_count": null,
   "metadata": {},
   "outputs": [],
   "source": [
    "model_artm.num_document_passes = 1\n",
    "model_artm.fit_offline(batch_vectorizer=batch_vectorizer, num_collection_passes=15)"
   ]
  },
  {
   "cell_type": "code",
   "execution_count": null,
   "metadata": {
    "scrolled": true
   },
   "outputs": [],
   "source": [
    "def print_measures(model_artm):\n",
    "    print('Sparsity Phi: {}'.format(model_artm.score_tracker['SparsityPhiScore'].last_value))\n",
    "    print('Sparsity Theta: {}'.format(model_artm.score_tracker['SparsityThetaScore'].last_value))\n",
    "    print('Kernel contrast: {}'.format(model_artm.score_tracker['TopicKernelScore'].last_average_contrast))\n",
    "    print('Kernel purity: {}'.format(model_artm.score_tracker['TopicKernelScore'].last_average_purity))\n",
    "    print('Perplexity: {}'.format(model_artm.score_tracker['PerplexityScore'].last_value))\n",
    "\n",
    "    plt.plot(range(model_artm.num_phi_updates),\n",
    "             model_artm.score_tracker['PerplexityScore'].value, 'r--', linewidth=2)\n",
    "    plt.xlabel('Iterations count')\n",
    "    plt.ylabel('ARTM perplexity')\n",
    "    plt.grid(True)\n",
    "    plt.show()\n",
    "\n",
    "print_measures(model_artm)"
   ]
  },
  {
   "cell_type": "code",
   "execution_count": null,
   "metadata": {
    "scrolled": true
   },
   "outputs": [],
   "source": [
    "plt.plot(range(model_artm.num_phi_updates),\n",
    "         model_artm.score_tracker['SparsityPhiScore'].value, 'r--', linewidth=2)\n",
    "\n",
    "plt.xlabel('Iterations count')\n",
    "plt.ylabel('Phi sparsity')\n",
    "plt.grid(True)\n",
    "plt.show()\n",
    "\n",
    "plt.plot(range(model_artm.num_phi_updates),\n",
    "         model_artm.score_tracker['SparsityThetaScore'].value, 'r--', linewidth=2)\n",
    "\n",
    "plt.xlabel('Iterations count')\n",
    "plt.ylabel('Theta sparsity')\n",
    "plt.grid(True)\n",
    "plt.show()"
   ]
  },
  {
   "cell_type": "code",
   "execution_count": 3,
   "metadata": {},
   "outputs": [],
   "source": [
    "import warnings\n",
    "warnings.filterwarnings('ignore')\n",
    "\n",
    "import numpy as np\n",
    "from sklearn import datasets\n",
    "from sklearn.cluster import KMeans\n",
    "from sklearn import decomposition\n",
    "from sklearn.metrics.cluster import adjusted_rand_score as ari\n",
    "from sklearn.metrics.cluster import adjusted_mutual_info_score as ami\n",
    "\n",
    "def get_score(matrix, n_clusters):\n",
    "    res = []\n",
    "    for i in range(10,n_clusters+1):\n",
    "        model = KMeans(n_clusters=i)\n",
    "        model.fit(matrix)\n",
    "        all_predictions = model.predict(matrix)\n",
    "        doc_subjects = np.array([label for (label, _) in document_collection_dict])     #создаем список тематик документов\n",
    "        res.append(ami(doc_subjects[:-1], all_predictions))\n",
    "    return max(res), min(res), sum(res) / len(res)"
   ]
  },
  {
   "cell_type": "code",
   "execution_count": 18,
   "metadata": {},
   "outputs": [],
   "source": [
    "import warnings\n",
    "warnings.filterwarnings('ignore')\n",
    "\n",
    "import numpy as np\n",
    "from sklearn import datasets\n",
    "from sklearn.cluster import DBSCAN   \n",
    "from sklearn import decomposition\n",
    "from sklearn.metrics.cluster import adjusted_rand_score as ari\n",
    "from sklearn.metrics.cluster import adjusted_mutual_info_score as ami\n",
    "\n",
    "def get_score(matrix):\n",
    "    model = DBSCAN()\n",
    "    model.fit(matrix)\n",
    "    all_predictions = model.labels_\n",
    "    doc_subjects = np.array([label for (label, _) in document_collection_dict])     #создаем список тематик документов\n",
    "    return ami(doc_subjects[:-1], all_predictions)"
   ]
  },
  {
   "cell_type": "code",
   "execution_count": 12,
   "metadata": {},
   "outputs": [],
   "source": [
    "@timer\n",
    "def get_grid_values(tau_m_space, sm_sp_theta_space, sm_sp_phi_space, decor_phi_space, \n",
    "                    model_artm, num_collection_passes, batch_vectorizer,\n",
    "                    n_clusters, phi_theta_scores):\n",
    "    for tau_m in tau_m_space:\n",
    "        model_artm.class_ids = {'@default_class': 1.0, '@na_class': tau_m}\n",
    "        for sm_sp_theta in sm_sp_theta_space:\n",
    "            model_artm.regularizers['SmoothSparseTheta'].tau = sm_sp_theta\n",
    "            for sm_sp_phi in sm_sp_phi_space:\n",
    "                model_artm.regularizers['SmoothSparsePhi'].tau = sm_sp_phi\n",
    "                for decor_phi in decor_phi_space:\n",
    "                    model_artm.regularizers['DecorrelatorPhi'].tau = decor_phi\n",
    "                    model_artm.fit_offline(batch_vectorizer=batch_vectorizer, \n",
    "                                           num_collection_passes=num_collection_passes)\n",
    "                    theta_matrix_T = np.array(model_artm.transform(batch_vectorizer=batch_vectorizer)).T\n",
    "                    score = {\n",
    "                               'tau_m' : tau_m,\n",
    "                               'sm_sp_theta' : sm_sp_theta,\n",
    "                               'sm_sp_phi' : sm_sp_phi,\n",
    "                               'decor_phi' : decor_phi,\n",
    "                               'score' : get_score(theta_matrix_T)\n",
    "                            }\n",
    "                    with open('grid_log.txt', 'a+') as log_file:\n",
    "                        log_file.write('\\n' + str(score))\n",
    "                    phi_theta_scores.append(score)"
   ]
  },
  {
   "cell_type": "code",
   "execution_count": 7,
   "metadata": {},
   "outputs": [],
   "source": [
    "import artm\n",
    "\n",
    "batch_vectorizer = artm.BatchVectorizer(data_path='vw.ld.txt',\n",
    "                                        data_format='vowpal_wabbit',\n",
    "                                        target_folder='ld')"
   ]
  },
  {
   "cell_type": "code",
   "execution_count": 10,
   "metadata": {},
   "outputs": [],
   "source": [
    "num_topics = 200\n",
    "\n",
    "scores = [artm.PerplexityScore(name='PerplexityScore', dictionary=batch_vectorizer.dictionary),\n",
    "          artm.SparsityPhiScore(name='SparsityPhiScore'),\n",
    "          artm.SparsityThetaScore(name='SparsityThetaScore')]\n",
    "\n",
    "regularizers = [artm.DecorrelatorPhiRegularizer(name='DecorrelatorPhi', tau=1e+8),\n",
    "                artm.SmoothSparseThetaRegularizer(name='SmoothSparseTheta', tau=-2.5),\n",
    "                artm.SmoothSparsePhiRegularizer(name='SmoothSparsePhi', tau=-0.5)]\n",
    "\n",
    "model_artm = artm.ARTM(num_topics=num_topics, cache_theta=True, \n",
    "                       dictionary=batch_vectorizer.dictionary,\n",
    "                       scores=scores,\n",
    "                       class_ids={'@default_class': 1.0, '@na_class': 5.0},\n",
    "                       regularizers=regularizers)"
   ]
  },
  {
   "cell_type": "code",
   "execution_count": 19,
   "metadata": {},
   "outputs": [
    {
     "name": "stderr",
     "output_type": "stream",
     "text": [
      "Exception ignored in: <generator object tqdm_notebook.__iter__ at 0x1294d7d00>\n",
      "Traceback (most recent call last):\n",
      "  File \"/anaconda3/lib/python3.6/site-packages/tqdm/_tqdm_notebook.py\", line 226, in __iter__\n",
      "    self.sp(bar_style='danger')\n",
      "AttributeError: 'tqdm_notebook' object has no attribute 'sp'\n"
     ]
    },
    {
     "ename": "KeyboardInterrupt",
     "evalue": "",
     "output_type": "error",
     "traceback": [
      "\u001b[0;31m---------------------------------------------------------------------------\u001b[0m",
      "\u001b[0;31mKeyboardInterrupt\u001b[0m                         Traceback (most recent call last)",
      "\u001b[0;32m<ipython-input-19-79c983435c04>\u001b[0m in \u001b[0;36m<module>\u001b[0;34m()\u001b[0m\n\u001b[1;32m      9\u001b[0m get_grid_values(tau_m_space, sm_sp_theta_space, sm_sp_phi_space, decor_phi_space,\n\u001b[1;32m     10\u001b[0m                 \u001b[0mmodel_artm\u001b[0m\u001b[0;34m,\u001b[0m \u001b[0mnum_collection_passes\u001b[0m\u001b[0;34m,\u001b[0m \u001b[0mbatch_vectorizer\u001b[0m\u001b[0;34m,\u001b[0m\u001b[0;34m\u001b[0m\u001b[0m\n\u001b[0;32m---> 11\u001b[0;31m                 n_clusters, phi_theta_scores)\n\u001b[0m",
      "\u001b[0;32m<ipython-input-3-4aa6df011663>\u001b[0m in \u001b[0;36mtmp\u001b[0;34m(*args, **kwargs)\u001b[0m\n\u001b[1;32m      3\u001b[0m     \u001b[0;32mdef\u001b[0m \u001b[0mtmp\u001b[0m\u001b[0;34m(\u001b[0m\u001b[0;34m*\u001b[0m\u001b[0margs\u001b[0m\u001b[0;34m,\u001b[0m \u001b[0;34m**\u001b[0m\u001b[0mkwargs\u001b[0m\u001b[0;34m)\u001b[0m\u001b[0;34m:\u001b[0m\u001b[0;34m\u001b[0m\u001b[0m\n\u001b[1;32m      4\u001b[0m         \u001b[0mt\u001b[0m \u001b[0;34m=\u001b[0m \u001b[0mtime\u001b[0m\u001b[0;34m.\u001b[0m\u001b[0mtime\u001b[0m\u001b[0;34m(\u001b[0m\u001b[0;34m)\u001b[0m\u001b[0;34m\u001b[0m\u001b[0m\n\u001b[0;32m----> 5\u001b[0;31m         \u001b[0mres\u001b[0m \u001b[0;34m=\u001b[0m \u001b[0mf\u001b[0m\u001b[0;34m(\u001b[0m\u001b[0;34m*\u001b[0m\u001b[0margs\u001b[0m\u001b[0;34m,\u001b[0m \u001b[0;34m**\u001b[0m\u001b[0mkwargs\u001b[0m\u001b[0;34m)\u001b[0m\u001b[0;34m\u001b[0m\u001b[0m\n\u001b[0m\u001b[1;32m      6\u001b[0m         \u001b[0;32mwith\u001b[0m \u001b[0mopen\u001b[0m\u001b[0;34m(\u001b[0m\u001b[0;34m'./time_log.txt'\u001b[0m\u001b[0;34m,\u001b[0m \u001b[0;34m'a+'\u001b[0m\u001b[0;34m)\u001b[0m \u001b[0;32mas\u001b[0m \u001b[0mlog\u001b[0m\u001b[0;34m:\u001b[0m\u001b[0;34m\u001b[0m\u001b[0m\n\u001b[1;32m      7\u001b[0m             \u001b[0mlog\u001b[0m\u001b[0;34m.\u001b[0m\u001b[0mwrite\u001b[0m\u001b[0;34m(\u001b[0m\u001b[0;34m\"Время выполнения функции {}: {}\\n\"\u001b[0m\u001b[0;34m.\u001b[0m\u001b[0mformat\u001b[0m\u001b[0;34m(\u001b[0m\u001b[0mf\u001b[0m\u001b[0;34m.\u001b[0m\u001b[0m__name__\u001b[0m\u001b[0;34m,\u001b[0m \u001b[0mtime\u001b[0m\u001b[0;34m.\u001b[0m\u001b[0mtime\u001b[0m\u001b[0;34m(\u001b[0m\u001b[0;34m)\u001b[0m\u001b[0;34m-\u001b[0m\u001b[0mt\u001b[0m\u001b[0;34m)\u001b[0m\u001b[0;34m)\u001b[0m\u001b[0;34m\u001b[0m\u001b[0m\n",
      "\u001b[0;32m<ipython-input-12-0fbc9fa1d871>\u001b[0m in \u001b[0;36mget_grid_values\u001b[0;34m(tau_m_space, sm_sp_theta_space, sm_sp_phi_space, decor_phi_space, model_artm, num_collection_passes, batch_vectorizer, n_clusters, phi_theta_scores)\u001b[0m\n\u001b[1;32m     12\u001b[0m                     \u001b[0mmodel_artm\u001b[0m\u001b[0;34m.\u001b[0m\u001b[0mregularizers\u001b[0m\u001b[0;34m[\u001b[0m\u001b[0;34m'DecorrelatorPhi'\u001b[0m\u001b[0;34m]\u001b[0m\u001b[0;34m.\u001b[0m\u001b[0mtau\u001b[0m \u001b[0;34m=\u001b[0m \u001b[0mdecor_phi\u001b[0m\u001b[0;34m\u001b[0m\u001b[0m\n\u001b[1;32m     13\u001b[0m                     model_artm.fit_offline(batch_vectorizer=batch_vectorizer, \n\u001b[0;32m---> 14\u001b[0;31m                                            num_collection_passes=num_collection_passes)\n\u001b[0m\u001b[1;32m     15\u001b[0m                     \u001b[0mtheta_matrix_T\u001b[0m \u001b[0;34m=\u001b[0m \u001b[0mnp\u001b[0m\u001b[0;34m.\u001b[0m\u001b[0marray\u001b[0m\u001b[0;34m(\u001b[0m\u001b[0mmodel_artm\u001b[0m\u001b[0;34m.\u001b[0m\u001b[0mtransform\u001b[0m\u001b[0;34m(\u001b[0m\u001b[0mbatch_vectorizer\u001b[0m\u001b[0;34m=\u001b[0m\u001b[0mbatch_vectorizer\u001b[0m\u001b[0;34m)\u001b[0m\u001b[0;34m)\u001b[0m\u001b[0;34m.\u001b[0m\u001b[0mT\u001b[0m\u001b[0;34m\u001b[0m\u001b[0m\n\u001b[1;32m     16\u001b[0m                     score = {\n",
      "\u001b[0;32m/anaconda3/lib/python3.6/site-packages/bigartm-0.10.0-py3.6.egg/artm/artm_model.py\u001b[0m in \u001b[0;36mfit_offline\u001b[0;34m(self, batch_vectorizer, num_collection_passes, reset_nwt)\u001b[0m\n\u001b[1;32m    578\u001b[0m                     self._pool.apply_async(func=self.master.fit_offline,\n\u001b[1;32m    579\u001b[0m                                            args=(batch_vectorizer.batches_ids,\n\u001b[0;32m--> 580\u001b[0;31m                                                  batch_vectorizer.weights, 1, None, reset_nwt)),\n\u001b[0m\u001b[1;32m    581\u001b[0m                     batch_vectorizer.num_batches)\n\u001b[1;32m    582\u001b[0m \u001b[0;34m\u001b[0m\u001b[0m\n",
      "\u001b[0;32m/anaconda3/lib/python3.6/site-packages/bigartm-0.10.0-py3.6.egg/artm/artm_model.py\u001b[0m in \u001b[0;36mapply_async\u001b[0;34m(self, func, args)\u001b[0m\n\u001b[1;32m     97\u001b[0m \u001b[0;34m\u001b[0m\u001b[0m\n\u001b[1;32m     98\u001b[0m     \u001b[0;32mdef\u001b[0m \u001b[0mapply_async\u001b[0m\u001b[0;34m(\u001b[0m\u001b[0mself\u001b[0m\u001b[0;34m,\u001b[0m \u001b[0mfunc\u001b[0m\u001b[0;34m,\u001b[0m \u001b[0margs\u001b[0m\u001b[0;34m)\u001b[0m\u001b[0;34m:\u001b[0m\u001b[0;34m\u001b[0m\u001b[0m\n\u001b[0;32m---> 99\u001b[0;31m         \u001b[0;32mreturn\u001b[0m \u001b[0mself\u001b[0m\u001b[0;34m.\u001b[0m\u001b[0m_pool\u001b[0m\u001b[0;34m.\u001b[0m\u001b[0mapply_async\u001b[0m\u001b[0;34m(\u001b[0m\u001b[0mfunc\u001b[0m\u001b[0;34m,\u001b[0m \u001b[0margs\u001b[0m\u001b[0;34m)\u001b[0m \u001b[0;32mif\u001b[0m \u001b[0mself\u001b[0m\u001b[0;34m.\u001b[0m\u001b[0m_pool\u001b[0m \u001b[0;32melse\u001b[0m \u001b[0mfunc\u001b[0m\u001b[0;34m(\u001b[0m\u001b[0;34m*\u001b[0m\u001b[0margs\u001b[0m\u001b[0;34m)\u001b[0m\u001b[0;34m\u001b[0m\u001b[0m\n\u001b[0m\u001b[1;32m    100\u001b[0m \u001b[0;34m\u001b[0m\u001b[0m\n\u001b[1;32m    101\u001b[0m     \u001b[0;32mdef\u001b[0m \u001b[0m__deepcopy__\u001b[0m\u001b[0;34m(\u001b[0m\u001b[0mself\u001b[0m\u001b[0;34m,\u001b[0m \u001b[0mmemo\u001b[0m\u001b[0;34m)\u001b[0m\u001b[0;34m:\u001b[0m\u001b[0;34m\u001b[0m\u001b[0m\n",
      "\u001b[0;32m/anaconda3/lib/python3.6/site-packages/bigartm-0.10.0-py3.6.egg/artm/master_component.py\u001b[0m in \u001b[0;36mfit_offline\u001b[0;34m(self, batch_filenames, batch_weights, num_collection_passes, batches_folder, reset_nwt)\u001b[0m\n\u001b[1;32m    864\u001b[0m             \u001b[0margs\u001b[0m\u001b[0;34m.\u001b[0m\u001b[0mbatch_folder\u001b[0m \u001b[0;34m=\u001b[0m \u001b[0mbatches_folder\u001b[0m\u001b[0;34m\u001b[0m\u001b[0m\n\u001b[1;32m    865\u001b[0m \u001b[0;34m\u001b[0m\u001b[0m\n\u001b[0;32m--> 866\u001b[0;31m         \u001b[0mself\u001b[0m\u001b[0;34m.\u001b[0m\u001b[0m_lib\u001b[0m\u001b[0;34m.\u001b[0m\u001b[0mArtmFitOfflineMasterModel\u001b[0m\u001b[0;34m(\u001b[0m\u001b[0mself\u001b[0m\u001b[0;34m.\u001b[0m\u001b[0mmaster_id\u001b[0m\u001b[0;34m,\u001b[0m \u001b[0margs\u001b[0m\u001b[0;34m)\u001b[0m\u001b[0;34m\u001b[0m\u001b[0m\n\u001b[0m\u001b[1;32m    867\u001b[0m \u001b[0;34m\u001b[0m\u001b[0m\n\u001b[1;32m    868\u001b[0m     def fit_online(self, batch_filenames=None, batch_weights=None, update_after=None,\n",
      "\u001b[0;32m/anaconda3/lib/python3.6/site-packages/bigartm-0.10.0-py3.6.egg/artm/wrapper/api.py\u001b[0m in \u001b[0;36martm_api_call\u001b[0;34m(*args)\u001b[0m\n\u001b[1;32m    158\u001b[0m             \u001b[0;32mif\u001b[0m \u001b[0mspec\u001b[0m\u001b[0;34m.\u001b[0m\u001b[0mresult_type\u001b[0m \u001b[0;32mis\u001b[0m \u001b[0;32mnot\u001b[0m \u001b[0;32mNone\u001b[0m\u001b[0;34m:\u001b[0m\u001b[0;34m\u001b[0m\u001b[0m\n\u001b[1;32m    159\u001b[0m                 \u001b[0mfunc\u001b[0m\u001b[0;34m.\u001b[0m\u001b[0mrestype\u001b[0m \u001b[0;34m=\u001b[0m \u001b[0mspec\u001b[0m\u001b[0;34m.\u001b[0m\u001b[0mresult_type\u001b[0m\u001b[0;34m\u001b[0m\u001b[0m\n\u001b[0;32m--> 160\u001b[0;31m             \u001b[0mresult\u001b[0m \u001b[0;34m=\u001b[0m \u001b[0mfunc\u001b[0m\u001b[0;34m(\u001b[0m\u001b[0;34m*\u001b[0m\u001b[0mc_args\u001b[0m\u001b[0;34m)\u001b[0m\u001b[0;34m\u001b[0m\u001b[0m\n\u001b[0m\u001b[1;32m    161\u001b[0m             \u001b[0mself\u001b[0m\u001b[0;34m.\u001b[0m\u001b[0m_check_error\u001b[0m\u001b[0;34m(\u001b[0m\u001b[0mresult\u001b[0m\u001b[0;34m)\u001b[0m\u001b[0;34m\u001b[0m\u001b[0m\n\u001b[1;32m    162\u001b[0m \u001b[0;34m\u001b[0m\u001b[0m\n",
      "\u001b[0;31mKeyboardInterrupt\u001b[0m: "
     ]
    }
   ],
   "source": [
    "tau_m_space = np.linspace(5,15,5)\n",
    "sm_sp_theta_space = np.linspace(-2,-0.5,4)\n",
    "sm_sp_phi_space = np.linspace(0.25,2,8)\n",
    "decor_phi_space = np.geomspace(1e+3,1e+8,6)\n",
    "n_clusters = 30\n",
    "num_collection_passes = 25\n",
    "phi_theta_scores = []\n",
    "\n",
    "get_grid_values(tau_m_space, sm_sp_theta_space, sm_sp_phi_space, decor_phi_space,\n",
    "                model_artm, num_collection_passes, batch_vectorizer,\n",
    "                n_clusters, phi_theta_scores)"
   ]
  },
  {
   "cell_type": "code",
   "execution_count": 24,
   "metadata": {},
   "outputs": [
    {
     "data": {
      "text/plain": [
       "240"
      ]
     },
     "execution_count": 24,
     "metadata": {},
     "output_type": "execute_result"
    }
   ],
   "source": [
    "len(tau_m_space) * len(sm_sp_theta_space) * len(sm_sp_phi_space) * len(decor_phi_space)"
   ]
  },
  {
   "cell_type": "code",
   "execution_count": 38,
   "metadata": {},
   "outputs": [
    {
     "data": {
      "text/plain": [
       "array([1.e+03, 1.e+04, 1.e+05, 1.e+06, 1.e+07, 1.e+08])"
      ]
     },
     "execution_count": 38,
     "metadata": {},
     "output_type": "execute_result"
    }
   ],
   "source": [
    "np.geomspace(1e+3,1e+8,6)"
   ]
  },
  {
   "cell_type": "code",
   "execution_count": null,
   "metadata": {},
   "outputs": [],
   "source": [
    "phi_theta_scores.pop(-1)"
   ]
  },
  {
   "cell_type": "code",
   "execution_count": null,
   "metadata": {},
   "outputs": [],
   "source": [
    "phi_theta_scores=[]"
   ]
  },
  {
   "cell_type": "code",
   "execution_count": null,
   "metadata": {},
   "outputs": [],
   "source": [
    "print('_'*80)"
   ]
  },
  {
   "cell_type": "code",
   "execution_count": null,
   "metadata": {},
   "outputs": [],
   "source": [
    "scores_s= [scores]"
   ]
  },
  {
   "cell_type": "code",
   "execution_count": null,
   "metadata": {},
   "outputs": [],
   "source": [
    "scores_s"
   ]
  },
  {
   "cell_type": "code",
   "execution_count": null,
   "metadata": {},
   "outputs": [],
   "source": []
  }
 ],
 "metadata": {
  "kernelspec": {
   "display_name": "Python 3",
   "language": "python",
   "name": "python3"
  },
  "language_info": {
   "codemirror_mode": {
    "name": "ipython",
    "version": 3
   },
   "file_extension": ".py",
   "mimetype": "text/x-python",
   "name": "python",
   "nbconvert_exporter": "python",
   "pygments_lexer": "ipython3",
   "version": "3.6.5"
  }
 },
 "nbformat": 4,
 "nbformat_minor": 2
}
